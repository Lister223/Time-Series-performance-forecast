{
 "cells": [
  {
   "cell_type": "code",
   "execution_count": 7,
   "id": "6eb70d94-c10d-4583-96e9-93b2fdc88d85",
   "metadata": {},
   "outputs": [],
   "source": [
    "import yfinance as yf\n",
    "import tensorflow as tf\n",
    "import numpy as np\n",
    "import smtplib\n",
    "from email.mime.text import MIMEText\n",
    "from email.mime.multipart import MIMEMultipart\n",
    "from sklearn.metrics import mean_absolute_error, mean_squared_error, mean_absolute_percentage_error"
   ]
  },
  {
   "cell_type": "code",
   "execution_count": 8,
   "id": "94266834-d51b-4b37-b8ea-7a4b65f54deb",
   "metadata": {},
   "outputs": [],
   "source": [
    "stock_code = \"2353.TW\""
   ]
  },
  {
   "cell_type": "code",
   "execution_count": 9,
   "id": "b4b8ba5d-bf30-4abe-811f-7c4354a3da6f",
   "metadata": {},
   "outputs": [],
   "source": [
    "#獲取20天歷史股價\n",
    "def get_stock(stock_code):\n",
    "    df = yf.Ticker(stock_code)\n",
    "    df = df.history(period=\"3mo\",interval=\"1d\")\n",
    "    df = df[-20:]\n",
    "    return df[\"Close\"].values\n",
    "\n",
    "#預測股價\n",
    "def predict_nextday_price(data):\n",
    "    ann_model = tf.keras.models.load_model('ANN_time_forecast_model')\n",
    "    data = np.array(data)\n",
    "    data = data.reshape((1,20,1))\n",
    "    predicted_price = ann_model.predict(data)\n",
    "    predicted_price = round(predicted_price.item(),3)\n",
    "    return predicted_price"
   ]
  },
  {
   "cell_type": "code",
   "execution_count": 10,
   "id": "ce14b9e5-204a-48d1-bc82-da50e3eae1de",
   "metadata": {},
   "outputs": [],
   "source": [
    "# 發送郵件通知\n",
    "def send_email(predicted_price):\n",
    "    sender_email = \"請輸入你要寄送的MAIL\"\n",
    "    receiver_email = \"請輸入你要接收的MAIL\"\n",
    "    password = \"SENDER EMAIL 密碼\"\n",
    "\n",
    "    message = MIMEMultipart(\"alternative\")\n",
    "    message[\"Subject\"] = \"每日股價預測\"\n",
    "    message[\"From\"] = sender_email\n",
    "    message[\"To\"] = receiver_email\n",
    "\n",
    "    text = f\"預測的下一次交易日宏碁股價為: {predicted_price}\"\n",
    "    part = MIMEText(text, \"plain\")\n",
    "    message.attach(part)\n",
    "\n",
    "    with smtplib.SMTP_SSL(\"smtp.gmail.com\",465) as server:\n",
    "         server.login(sender_email, password)\n",
    "         server.sendmail(sender_email, receiver_email, message.as_string())"
   ]
  },
  {
   "cell_type": "code",
   "execution_count": 11,
   "id": "9c13085d-7266-490e-b467-a21b7a923ced",
   "metadata": {},
   "outputs": [],
   "source": [
    "# 測試發送郵件\n",
    "#predicted_price = 123.45  # 假設的預測股價\n",
    "#send_email(predicted_price)"
   ]
  },
  {
   "cell_type": "code",
   "execution_count": 12,
   "id": "5585197b-962f-4137-a79f-42cba475065d",
   "metadata": {},
   "outputs": [
    {
     "name": "stdout",
     "output_type": "stream",
     "text": [
      "1/1 [==============================] - 0s 36ms/step\n",
      "預測的下一次交易日股價為: 37.077\n"
     ]
    }
   ],
   "source": [
    "# 主函數\n",
    "def main():\n",
    "    data = get_stock(stock_code)\n",
    "    predicted_price = predict_nextday_price(data)\n",
    "    #send_email(predicted_price)\n",
    "    print(f\"預測的下一次交易日股價為: {predicted_price}\")\n",
    "\n",
    "if __name__ == \"__main__\":\n",
    "    main()"
   ]
  },
  {
   "cell_type": "code",
   "execution_count": null,
   "id": "7f9f1891-80b9-4055-a5f1-ebbd2b3192a8",
   "metadata": {},
   "outputs": [],
   "source": []
  }
 ],
 "metadata": {
  "kernelspec": {
   "display_name": "Python 3 (ipykernel)",
   "language": "python",
   "name": "python3"
  },
  "language_info": {
   "codemirror_mode": {
    "name": "ipython",
    "version": 3
   },
   "file_extension": ".py",
   "mimetype": "text/x-python",
   "name": "python",
   "nbconvert_exporter": "python",
   "pygments_lexer": "ipython3",
   "version": "3.8.0"
  }
 },
 "nbformat": 4,
 "nbformat_minor": 5
}
